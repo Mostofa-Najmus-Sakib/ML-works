{
  "nbformat": 4,
  "nbformat_minor": 0,
  "metadata": {
    "colab": {
      "name": "CS534_ps2_Mostofa.ipynb",
      "provenance": [],
      "collapsed_sections": [],
      "authorship_tag": "ABX9TyPjdKl1LvG1aYKKBD5eRELB",
      "include_colab_link": true
    },
    "kernelspec": {
      "name": "python3",
      "display_name": "Python 3"
    }
  },
  "cells": [
    {
      "cell_type": "markdown",
      "metadata": {
        "id": "view-in-github",
        "colab_type": "text"
      },
      "source": [
        "<a href=\"https://colab.research.google.com/github/Mostofa-Najmus-Sakib/ML-works/blob/main/Assisgnment2/CS534_ps2.ipynb\" target=\"_parent\"><img src=\"https://colab.research.google.com/assets/colab-badge.svg\" alt=\"Open In Colab\"/></a>"
      ]
    },
    {
      "cell_type": "code",
      "metadata": {
        "id": "Ji2OQ4BSpFl-"
      },
      "source": [
        "import pandas as pd\n",
        "import numpy as np\n",
        "import seaborn as sns"
      ],
      "execution_count": null,
      "outputs": []
    },
    {
      "cell_type": "markdown",
      "metadata": {
        "id": "PEZfO0PaXBgQ"
      },
      "source": [
        "### Question1: Implement  the  fit  and  predict  procedures  for  the  logistic  regression  (scikit  is  not  allowed)  with  norm  2 regularization function (and Lambda parameter). Use as the input parameters of the gradient ascent the maximum number of iterations (just a constant e.g. 100) and the learning factor (e.g. 0.01)."
      ]
    },
    {
      "cell_type": "markdown",
      "metadata": {
        "id": "-CxC7IU5XPeT"
      },
      "source": [
        "Let's define some necessary functions"
      ]
    },
    {
      "cell_type": "code",
      "metadata": {
        "id": "PIpO6U0nW_r-"
      },
      "source": [
        "#This function calculates the sigmoid function, by the formula: h(x) = 1 / (1 + e^(-w.T*x)) => h(x) = 1 / (1 + e^(-z))\n",
        "def sigmoid(z):\n",
        "    return 1 / (1 + np.exp(-z))"
      ],
      "execution_count": null,
      "outputs": []
    },
    {
      "cell_type": "code",
      "metadata": {
        "id": "7mnXMTvZXSiB"
      },
      "source": [
        "# this function is used to initialize the parameter vector(w) to zero with dimension: No_of_features * 1\n",
        "def initialize_with_zeros(dimension):\n",
        "    w = np.zeros((dimension,1))\n",
        "    return w"
      ],
      "execution_count": null,
      "outputs": []
    },
    {
      "cell_type": "code",
      "metadata": {
        "id": "lcqGss1_XUL5"
      },
      "source": [
        "# This function returns the sum of squares of the values in the vector w.\n",
        "# We need this during calculating the loss with norm 2 regularization\n",
        "def GetSumOfSquares(w):\n",
        "    result = 0\n",
        "    for i in range(0, len(w)):\n",
        "        result = result + w[i] * w[i]\n",
        "    return result\n",
        "# This function returns the sum of the values in the vector w.\n",
        "# We need this during calculating the gradient with norm 2 regularization\n",
        "def GetSum(w):\n",
        "    result = 0\n",
        "    for i in range(0, len(w)):\n",
        "        result = result + w[i]\n",
        "    return result\n",
        "# Calculates the loss or cost by the equation: sum(yi*log(h(xi)) + (1-yi)*log(1-h(xi)))\n",
        "def calculateLoss(h, y):\n",
        "    return (-y * np.log(h) - (1 - y) * np.log(1 - h)).mean()"
      ],
      "execution_count": null,
      "outputs": []
    },
    {
      "cell_type": "code",
      "metadata": {
        "id": "84kVC3FwXV5G"
      },
      "source": [
        "# w = parameters, X = the independant variables, Y = outputs\n",
        "# Calculates the sigmoid and loss/cost\n",
        "def CalculateSigmoidAndLoss(w, X, Y, lambdaValue):\n",
        "    \n",
        "    z = np.dot(X, w)\n",
        "    h = sigmoid(z)\n",
        "    \n",
        "    loss = calculateLoss(h, Y) - lambdaValue * GetSumOfSquares(w)\n",
        "    \n",
        "    return h, loss"
      ],
      "execution_count": null,
      "outputs": []
    },
    {
      "cell_type": "code",
      "metadata": {
        "id": "Sihm_3YNXXvx"
      },
      "source": [
        "# This is the implementation of the fit function for logistic regression\n",
        "# it used norm 2 regularization as required by the question\n",
        "# it takes as parameters, the independant variables(X), the outputs(Y), the lambdaValue\n",
        "# maximum iteration is 100 and learning factor is 0.01 unless mentioned otherwise\n",
        "def fit(X, Y, lambdaValue, maxItter = 100, learning_factor = 0.01):\n",
        "    \n",
        "    intercept = np.ones((X.shape[0], 1))\n",
        "    X = np.concatenate((intercept, X), axis=1)    # this handles the bias term b by adding an extra column filled with 1\n",
        "    \n",
        "    w = initialize_with_zeros(X.shape[1])    # initially the parameters are all zero\n",
        "    \n",
        "    for i in range(0, maxItter):\n",
        "        h, loss = CalculateSigmoidAndLoss(w, X, Y, lambdaValue)\n",
        "        gradient = np.dot(X.T, (h - Y)) / Y.size + (GetSum(w)*lambdaValue/Y.size)    # calculate the gradient by the formula: sum(h(xi) - yi)/m + lambda*w/m\n",
        "        w -= learning_factor * gradient    # adjust the parameters\n",
        "    \n",
        "    return w"
      ],
      "execution_count": null,
      "outputs": []
    },
    {
      "cell_type": "code",
      "metadata": {
        "id": "krwVjxMfXZdt"
      },
      "source": [
        "# This is the predict function of the logistic regression\n",
        "# W = parameters that has been fit, X = the test data\n",
        "# returns a series containing the predictions\n",
        "def predict(W, X):\n",
        "    intercept = np.ones((X.shape[0], 1))\n",
        "    X = np.concatenate((intercept, X), axis=1)\n",
        "    predictedOutput = sigmoid(np.dot(X, W))\n",
        "    return predictedOutput"
      ],
      "execution_count": null,
      "outputs": []
    },
    {
      "cell_type": "markdown",
      "metadata": {
        "id": "J5dk_V9cXdAn"
      },
      "source": [
        "## Question2: Using the  iris dataset  (the  binary  class,Iris  Setosa  vs  others), K-fold  cross  validation,  metrics(accuracy, precision,  recall,  F1-score)  and logistic  regression  (Question1)  with  L2  regularization,estimate  the  best parameter C(the inverse of lambda)."
      ]
    },
    {
      "cell_type": "markdown",
      "metadata": {
        "id": "nDG2ogdTXrkV"
      },
      "source": [
        "Let's load the iris dataset"
      ]
    },
    {
      "cell_type": "code",
      "metadata": {
        "colab": {
          "base_uri": "https://localhost:8080/",
          "height": 194
        },
        "id": "gXqVbJonXbFx",
        "outputId": "a1c8b930-1d09-429b-f7ea-f9bfc85e3fd9"
      },
      "source": [
        "data = pd.read_csv('http://archive.ics.uci.edu/ml/machine-learning-databases/iris/iris.data',header=None)\n",
        "data.columns = ['sepal length', 'sepal width', 'petal length', 'petal width', 'class']\n",
        "data = pd.concat([data, data])    #since the dataset is quite small\n",
        "\n",
        "data.head()"
      ],
      "execution_count": null,
      "outputs": [
        {
          "output_type": "execute_result",
          "data": {
            "text/html": [
              "<div>\n",
              "<style scoped>\n",
              "    .dataframe tbody tr th:only-of-type {\n",
              "        vertical-align: middle;\n",
              "    }\n",
              "\n",
              "    .dataframe tbody tr th {\n",
              "        vertical-align: top;\n",
              "    }\n",
              "\n",
              "    .dataframe thead th {\n",
              "        text-align: right;\n",
              "    }\n",
              "</style>\n",
              "<table border=\"1\" class=\"dataframe\">\n",
              "  <thead>\n",
              "    <tr style=\"text-align: right;\">\n",
              "      <th></th>\n",
              "      <th>sepal length</th>\n",
              "      <th>sepal width</th>\n",
              "      <th>petal length</th>\n",
              "      <th>petal width</th>\n",
              "      <th>class</th>\n",
              "    </tr>\n",
              "  </thead>\n",
              "  <tbody>\n",
              "    <tr>\n",
              "      <th>0</th>\n",
              "      <td>5.1</td>\n",
              "      <td>3.5</td>\n",
              "      <td>1.4</td>\n",
              "      <td>0.2</td>\n",
              "      <td>Iris-setosa</td>\n",
              "    </tr>\n",
              "    <tr>\n",
              "      <th>1</th>\n",
              "      <td>4.9</td>\n",
              "      <td>3.0</td>\n",
              "      <td>1.4</td>\n",
              "      <td>0.2</td>\n",
              "      <td>Iris-setosa</td>\n",
              "    </tr>\n",
              "    <tr>\n",
              "      <th>2</th>\n",
              "      <td>4.7</td>\n",
              "      <td>3.2</td>\n",
              "      <td>1.3</td>\n",
              "      <td>0.2</td>\n",
              "      <td>Iris-setosa</td>\n",
              "    </tr>\n",
              "    <tr>\n",
              "      <th>3</th>\n",
              "      <td>4.6</td>\n",
              "      <td>3.1</td>\n",
              "      <td>1.5</td>\n",
              "      <td>0.2</td>\n",
              "      <td>Iris-setosa</td>\n",
              "    </tr>\n",
              "    <tr>\n",
              "      <th>4</th>\n",
              "      <td>5.0</td>\n",
              "      <td>3.6</td>\n",
              "      <td>1.4</td>\n",
              "      <td>0.2</td>\n",
              "      <td>Iris-setosa</td>\n",
              "    </tr>\n",
              "  </tbody>\n",
              "</table>\n",
              "</div>"
            ],
            "text/plain": [
              "   sepal length  sepal width  petal length  petal width        class\n",
              "0           5.1          3.5           1.4          0.2  Iris-setosa\n",
              "1           4.9          3.0           1.4          0.2  Iris-setosa\n",
              "2           4.7          3.2           1.3          0.2  Iris-setosa\n",
              "3           4.6          3.1           1.5          0.2  Iris-setosa\n",
              "4           5.0          3.6           1.4          0.2  Iris-setosa"
            ]
          },
          "metadata": {
            "tags": []
          },
          "execution_count": 29
        }
      ]
    },
    {
      "cell_type": "markdown",
      "metadata": {
        "id": "pEVU6nq8Xwaf"
      },
      "source": [
        "Since we are dealing with binary class(Iris Setosa vs others), we can use the following function to get our target column"
      ]
    },
    {
      "cell_type": "code",
      "metadata": {
        "id": "HqhLr2eiXtYm"
      },
      "source": [
        "def GetBinaryTarget(data):\n",
        "    target = []\n",
        "    \n",
        "    for i in range(0, len(data)):\n",
        "        if data.iloc[i]['class'] == 'Iris-setosa':\n",
        "            target.append(0)\n",
        "        else:\n",
        "            target.append(1)\n",
        "    data.insert(len(data.columns), \"target\", target, True)\n",
        "    return data"
      ],
      "execution_count": null,
      "outputs": []
    },
    {
      "cell_type": "code",
      "metadata": {
        "colab": {
          "base_uri": "https://localhost:8080/",
          "height": 399
        },
        "id": "GBEk8aPFX04E",
        "outputId": "5b2c21c2-5e0a-4961-bdd4-fccfe0fd1e0a"
      },
      "source": [
        "data = GetBinaryTarget(data)\n",
        "data"
      ],
      "execution_count": null,
      "outputs": [
        {
          "output_type": "execute_result",
          "data": {
            "text/html": [
              "<div>\n",
              "<style scoped>\n",
              "    .dataframe tbody tr th:only-of-type {\n",
              "        vertical-align: middle;\n",
              "    }\n",
              "\n",
              "    .dataframe tbody tr th {\n",
              "        vertical-align: top;\n",
              "    }\n",
              "\n",
              "    .dataframe thead th {\n",
              "        text-align: right;\n",
              "    }\n",
              "</style>\n",
              "<table border=\"1\" class=\"dataframe\">\n",
              "  <thead>\n",
              "    <tr style=\"text-align: right;\">\n",
              "      <th></th>\n",
              "      <th>sepal length</th>\n",
              "      <th>sepal width</th>\n",
              "      <th>petal length</th>\n",
              "      <th>petal width</th>\n",
              "      <th>class</th>\n",
              "      <th>target</th>\n",
              "    </tr>\n",
              "  </thead>\n",
              "  <tbody>\n",
              "    <tr>\n",
              "      <th>0</th>\n",
              "      <td>5.1</td>\n",
              "      <td>3.5</td>\n",
              "      <td>1.4</td>\n",
              "      <td>0.2</td>\n",
              "      <td>Iris-setosa</td>\n",
              "      <td>0</td>\n",
              "    </tr>\n",
              "    <tr>\n",
              "      <th>1</th>\n",
              "      <td>4.9</td>\n",
              "      <td>3.0</td>\n",
              "      <td>1.4</td>\n",
              "      <td>0.2</td>\n",
              "      <td>Iris-setosa</td>\n",
              "      <td>0</td>\n",
              "    </tr>\n",
              "    <tr>\n",
              "      <th>2</th>\n",
              "      <td>4.7</td>\n",
              "      <td>3.2</td>\n",
              "      <td>1.3</td>\n",
              "      <td>0.2</td>\n",
              "      <td>Iris-setosa</td>\n",
              "      <td>0</td>\n",
              "    </tr>\n",
              "    <tr>\n",
              "      <th>3</th>\n",
              "      <td>4.6</td>\n",
              "      <td>3.1</td>\n",
              "      <td>1.5</td>\n",
              "      <td>0.2</td>\n",
              "      <td>Iris-setosa</td>\n",
              "      <td>0</td>\n",
              "    </tr>\n",
              "    <tr>\n",
              "      <th>4</th>\n",
              "      <td>5.0</td>\n",
              "      <td>3.6</td>\n",
              "      <td>1.4</td>\n",
              "      <td>0.2</td>\n",
              "      <td>Iris-setosa</td>\n",
              "      <td>0</td>\n",
              "    </tr>\n",
              "    <tr>\n",
              "      <th>...</th>\n",
              "      <td>...</td>\n",
              "      <td>...</td>\n",
              "      <td>...</td>\n",
              "      <td>...</td>\n",
              "      <td>...</td>\n",
              "      <td>...</td>\n",
              "    </tr>\n",
              "    <tr>\n",
              "      <th>145</th>\n",
              "      <td>6.7</td>\n",
              "      <td>3.0</td>\n",
              "      <td>5.2</td>\n",
              "      <td>2.3</td>\n",
              "      <td>Iris-virginica</td>\n",
              "      <td>1</td>\n",
              "    </tr>\n",
              "    <tr>\n",
              "      <th>146</th>\n",
              "      <td>6.3</td>\n",
              "      <td>2.5</td>\n",
              "      <td>5.0</td>\n",
              "      <td>1.9</td>\n",
              "      <td>Iris-virginica</td>\n",
              "      <td>1</td>\n",
              "    </tr>\n",
              "    <tr>\n",
              "      <th>147</th>\n",
              "      <td>6.5</td>\n",
              "      <td>3.0</td>\n",
              "      <td>5.2</td>\n",
              "      <td>2.0</td>\n",
              "      <td>Iris-virginica</td>\n",
              "      <td>1</td>\n",
              "    </tr>\n",
              "    <tr>\n",
              "      <th>148</th>\n",
              "      <td>6.2</td>\n",
              "      <td>3.4</td>\n",
              "      <td>5.4</td>\n",
              "      <td>2.3</td>\n",
              "      <td>Iris-virginica</td>\n",
              "      <td>1</td>\n",
              "    </tr>\n",
              "    <tr>\n",
              "      <th>149</th>\n",
              "      <td>5.9</td>\n",
              "      <td>3.0</td>\n",
              "      <td>5.1</td>\n",
              "      <td>1.8</td>\n",
              "      <td>Iris-virginica</td>\n",
              "      <td>1</td>\n",
              "    </tr>\n",
              "  </tbody>\n",
              "</table>\n",
              "<p>300 rows × 6 columns</p>\n",
              "</div>"
            ],
            "text/plain": [
              "     sepal length  sepal width  ...           class  target\n",
              "0             5.1          3.5  ...     Iris-setosa       0\n",
              "1             4.9          3.0  ...     Iris-setosa       0\n",
              "2             4.7          3.2  ...     Iris-setosa       0\n",
              "3             4.6          3.1  ...     Iris-setosa       0\n",
              "4             5.0          3.6  ...     Iris-setosa       0\n",
              "..            ...          ...  ...             ...     ...\n",
              "145           6.7          3.0  ...  Iris-virginica       1\n",
              "146           6.3          2.5  ...  Iris-virginica       1\n",
              "147           6.5          3.0  ...  Iris-virginica       1\n",
              "148           6.2          3.4  ...  Iris-virginica       1\n",
              "149           5.9          3.0  ...  Iris-virginica       1\n",
              "\n",
              "[300 rows x 6 columns]"
            ]
          },
          "metadata": {
            "tags": []
          },
          "execution_count": 31
        }
      ]
    },
    {
      "cell_type": "markdown",
      "metadata": {
        "id": "iGmzOpldX4Dm"
      },
      "source": [
        "For our example, let's work with sepal length and sepal width only"
      ]
    },
    {
      "cell_type": "code",
      "metadata": {
        "colab": {
          "base_uri": "https://localhost:8080/",
          "height": 194
        },
        "id": "jf1f-o45X2kS",
        "outputId": "e710354a-c846-4c58-c17b-17fef1711a09"
      },
      "source": [
        "data = data.drop(['petal length', 'petal width', 'class'], 1)\n",
        "data.head()"
      ],
      "execution_count": null,
      "outputs": [
        {
          "output_type": "execute_result",
          "data": {
            "text/html": [
              "<div>\n",
              "<style scoped>\n",
              "    .dataframe tbody tr th:only-of-type {\n",
              "        vertical-align: middle;\n",
              "    }\n",
              "\n",
              "    .dataframe tbody tr th {\n",
              "        vertical-align: top;\n",
              "    }\n",
              "\n",
              "    .dataframe thead th {\n",
              "        text-align: right;\n",
              "    }\n",
              "</style>\n",
              "<table border=\"1\" class=\"dataframe\">\n",
              "  <thead>\n",
              "    <tr style=\"text-align: right;\">\n",
              "      <th></th>\n",
              "      <th>sepal length</th>\n",
              "      <th>sepal width</th>\n",
              "      <th>target</th>\n",
              "    </tr>\n",
              "  </thead>\n",
              "  <tbody>\n",
              "    <tr>\n",
              "      <th>0</th>\n",
              "      <td>5.1</td>\n",
              "      <td>3.5</td>\n",
              "      <td>0</td>\n",
              "    </tr>\n",
              "    <tr>\n",
              "      <th>1</th>\n",
              "      <td>4.9</td>\n",
              "      <td>3.0</td>\n",
              "      <td>0</td>\n",
              "    </tr>\n",
              "    <tr>\n",
              "      <th>2</th>\n",
              "      <td>4.7</td>\n",
              "      <td>3.2</td>\n",
              "      <td>0</td>\n",
              "    </tr>\n",
              "    <tr>\n",
              "      <th>3</th>\n",
              "      <td>4.6</td>\n",
              "      <td>3.1</td>\n",
              "      <td>0</td>\n",
              "    </tr>\n",
              "    <tr>\n",
              "      <th>4</th>\n",
              "      <td>5.0</td>\n",
              "      <td>3.6</td>\n",
              "      <td>0</td>\n",
              "    </tr>\n",
              "  </tbody>\n",
              "</table>\n",
              "</div>"
            ],
            "text/plain": [
              "   sepal length  sepal width  target\n",
              "0           5.1          3.5       0\n",
              "1           4.9          3.0       0\n",
              "2           4.7          3.2       0\n",
              "3           4.6          3.1       0\n",
              "4           5.0          3.6       0"
            ]
          },
          "metadata": {
            "tags": []
          },
          "execution_count": 32
        }
      ]
    },
    {
      "cell_type": "markdown",
      "metadata": {
        "id": "7sllMfFzX-C1"
      },
      "source": [
        "Now we have the appropriate data, let's preprocess the data first\n",
        "\n",
        "shuffling the data:"
      ]
    },
    {
      "cell_type": "code",
      "metadata": {
        "colab": {
          "base_uri": "https://localhost:8080/",
          "height": 194
        },
        "id": "FD6mzoOrX7zh",
        "outputId": "15f0a344-4faa-4574-fd9c-ae0068a9349b"
      },
      "source": [
        "data = data.sample(frac=1, random_state = 1)\n",
        "data = data.reset_index(drop=True)\n",
        "data.head()"
      ],
      "execution_count": null,
      "outputs": [
        {
          "output_type": "execute_result",
          "data": {
            "text/html": [
              "<div>\n",
              "<style scoped>\n",
              "    .dataframe tbody tr th:only-of-type {\n",
              "        vertical-align: middle;\n",
              "    }\n",
              "\n",
              "    .dataframe tbody tr th {\n",
              "        vertical-align: top;\n",
              "    }\n",
              "\n",
              "    .dataframe thead th {\n",
              "        text-align: right;\n",
              "    }\n",
              "</style>\n",
              "<table border=\"1\" class=\"dataframe\">\n",
              "  <thead>\n",
              "    <tr style=\"text-align: right;\">\n",
              "      <th></th>\n",
              "      <th>sepal length</th>\n",
              "      <th>sepal width</th>\n",
              "      <th>target</th>\n",
              "    </tr>\n",
              "  </thead>\n",
              "  <tbody>\n",
              "    <tr>\n",
              "      <th>0</th>\n",
              "      <td>5.1</td>\n",
              "      <td>3.4</td>\n",
              "      <td>0</td>\n",
              "    </tr>\n",
              "    <tr>\n",
              "      <th>1</th>\n",
              "      <td>6.3</td>\n",
              "      <td>2.7</td>\n",
              "      <td>1</td>\n",
              "    </tr>\n",
              "    <tr>\n",
              "      <th>2</th>\n",
              "      <td>5.0</td>\n",
              "      <td>3.2</td>\n",
              "      <td>0</td>\n",
              "    </tr>\n",
              "    <tr>\n",
              "      <th>3</th>\n",
              "      <td>6.1</td>\n",
              "      <td>2.9</td>\n",
              "      <td>1</td>\n",
              "    </tr>\n",
              "    <tr>\n",
              "      <th>4</th>\n",
              "      <td>4.9</td>\n",
              "      <td>2.5</td>\n",
              "      <td>1</td>\n",
              "    </tr>\n",
              "  </tbody>\n",
              "</table>\n",
              "</div>"
            ],
            "text/plain": [
              "   sepal length  sepal width  target\n",
              "0           5.1          3.4       0\n",
              "1           6.3          2.7       1\n",
              "2           5.0          3.2       0\n",
              "3           6.1          2.9       1\n",
              "4           4.9          2.5       1"
            ]
          },
          "metadata": {
            "tags": []
          },
          "execution_count": 33
        }
      ]
    },
    {
      "cell_type": "markdown",
      "metadata": {
        "id": "UHLgNeWAYFKj"
      },
      "source": [
        "Splitting the independant and dependant variables:"
      ]
    },
    {
      "cell_type": "code",
      "metadata": {
        "colab": {
          "base_uri": "https://localhost:8080/",
          "height": 194
        },
        "id": "Hn7MNy9OYDv8",
        "outputId": "665159d0-e6ea-4722-f1bb-876762d48fb2"
      },
      "source": [
        "dataX = data[['sepal length', 'sepal width']].copy()\n",
        "dataX.head()"
      ],
      "execution_count": null,
      "outputs": [
        {
          "output_type": "execute_result",
          "data": {
            "text/html": [
              "<div>\n",
              "<style scoped>\n",
              "    .dataframe tbody tr th:only-of-type {\n",
              "        vertical-align: middle;\n",
              "    }\n",
              "\n",
              "    .dataframe tbody tr th {\n",
              "        vertical-align: top;\n",
              "    }\n",
              "\n",
              "    .dataframe thead th {\n",
              "        text-align: right;\n",
              "    }\n",
              "</style>\n",
              "<table border=\"1\" class=\"dataframe\">\n",
              "  <thead>\n",
              "    <tr style=\"text-align: right;\">\n",
              "      <th></th>\n",
              "      <th>sepal length</th>\n",
              "      <th>sepal width</th>\n",
              "    </tr>\n",
              "  </thead>\n",
              "  <tbody>\n",
              "    <tr>\n",
              "      <th>0</th>\n",
              "      <td>5.1</td>\n",
              "      <td>3.4</td>\n",
              "    </tr>\n",
              "    <tr>\n",
              "      <th>1</th>\n",
              "      <td>6.3</td>\n",
              "      <td>2.7</td>\n",
              "    </tr>\n",
              "    <tr>\n",
              "      <th>2</th>\n",
              "      <td>5.0</td>\n",
              "      <td>3.2</td>\n",
              "    </tr>\n",
              "    <tr>\n",
              "      <th>3</th>\n",
              "      <td>6.1</td>\n",
              "      <td>2.9</td>\n",
              "    </tr>\n",
              "    <tr>\n",
              "      <th>4</th>\n",
              "      <td>4.9</td>\n",
              "      <td>2.5</td>\n",
              "    </tr>\n",
              "  </tbody>\n",
              "</table>\n",
              "</div>"
            ],
            "text/plain": [
              "   sepal length  sepal width\n",
              "0           5.1          3.4\n",
              "1           6.3          2.7\n",
              "2           5.0          3.2\n",
              "3           6.1          2.9\n",
              "4           4.9          2.5"
            ]
          },
          "metadata": {
            "tags": []
          },
          "execution_count": 34
        }
      ]
    },
    {
      "cell_type": "code",
      "metadata": {
        "colab": {
          "base_uri": "https://localhost:8080/",
          "height": 194
        },
        "id": "cE6Aaw8nYIkm",
        "outputId": "11165059-e47d-4d0f-90f3-4e163cf0a219"
      },
      "source": [
        "dataY = data[['target']].copy()\n",
        "dataY.head()"
      ],
      "execution_count": null,
      "outputs": [
        {
          "output_type": "execute_result",
          "data": {
            "text/html": [
              "<div>\n",
              "<style scoped>\n",
              "    .dataframe tbody tr th:only-of-type {\n",
              "        vertical-align: middle;\n",
              "    }\n",
              "\n",
              "    .dataframe tbody tr th {\n",
              "        vertical-align: top;\n",
              "    }\n",
              "\n",
              "    .dataframe thead th {\n",
              "        text-align: right;\n",
              "    }\n",
              "</style>\n",
              "<table border=\"1\" class=\"dataframe\">\n",
              "  <thead>\n",
              "    <tr style=\"text-align: right;\">\n",
              "      <th></th>\n",
              "      <th>target</th>\n",
              "    </tr>\n",
              "  </thead>\n",
              "  <tbody>\n",
              "    <tr>\n",
              "      <th>0</th>\n",
              "      <td>0</td>\n",
              "    </tr>\n",
              "    <tr>\n",
              "      <th>1</th>\n",
              "      <td>1</td>\n",
              "    </tr>\n",
              "    <tr>\n",
              "      <th>2</th>\n",
              "      <td>0</td>\n",
              "    </tr>\n",
              "    <tr>\n",
              "      <th>3</th>\n",
              "      <td>1</td>\n",
              "    </tr>\n",
              "    <tr>\n",
              "      <th>4</th>\n",
              "      <td>1</td>\n",
              "    </tr>\n",
              "  </tbody>\n",
              "</table>\n",
              "</div>"
            ],
            "text/plain": [
              "   target\n",
              "0       0\n",
              "1       1\n",
              "2       0\n",
              "3       1\n",
              "4       1"
            ]
          },
          "metadata": {
            "tags": []
          },
          "execution_count": 35
        }
      ]
    },
    {
      "cell_type": "markdown",
      "metadata": {
        "id": "Fdvx9fawYMXG"
      },
      "source": [
        "In order to use the logistic regression functions and test them, we still need some more functions. Let's define those"
      ]
    },
    {
      "cell_type": "code",
      "metadata": {
        "id": "56ZviG8pYKeK"
      },
      "source": [
        "# After the fit and predict do their job of giving us a probabilistic output,\n",
        "#  we need to use a threshold to get the real binary prediction values\n",
        "# This function takes in the predictions and a threshold to calculate the real predictions\n",
        "def realPred(pred, threshold):\n",
        "    target = []\n",
        "    for i in range(0, len(pred)):\n",
        "        if pred[i] > threshold:\n",
        "            target.append(1)\n",
        "        else:\n",
        "            target.append(0)\n",
        "    return target"
      ],
      "execution_count": null,
      "outputs": []
    },
    {
      "cell_type": "code",
      "metadata": {
        "id": "f9b5rh4_YPR1"
      },
      "source": [
        "# this function finds the best threshold values for particular predictions\n",
        "def getBestThreshold(actual, pred):\n",
        "    tempThresh = 0.1\n",
        "    acc = 0\n",
        "    result = 0\n",
        "    while tempThresh < 1.0:\n",
        "        up = 0\n",
        "        down = len(actual)\n",
        "        realPredValuesForThresh = realPred(pred, tempThresh)\n",
        "        for i in range(0, len(actual)):\n",
        "            if actual.iloc[i]['target'] == realPredValuesForThresh[i]:\n",
        "                up = up + 1\n",
        "        \n",
        "        tempAcc = up / down\n",
        "        if tempAcc > acc:\n",
        "            result = tempThresh\n",
        "            acc = tempAcc\n",
        "        tempThresh = tempThresh + 0.1\n",
        "    return result\n",
        "\n",
        "# this function calculates all the metrics mentioned in the question(accuracy, precision, recall, f1score)\n",
        "def getMetrics(actual, pred):\n",
        "    TP = 0\n",
        "    TN = 0\n",
        "    FP = 0\n",
        "    FN = 0\n",
        "    \n",
        "    for i in range(0, len(pred)):\n",
        "        if actual.iloc[i]['target'] == 1 and pred[i] == 1:\n",
        "            TP = TP + 1\n",
        "        elif actual.iloc[i]['target'] == 0 and pred[i] == 0:\n",
        "            TN = TN + 1\n",
        "        elif actual.iloc[i]['target'] == 0 and pred[i] == 1:\n",
        "            FP = FP + 1\n",
        "        elif actual.iloc[i]['target'] == 1 and pred[i] == 0:\n",
        "            FN = FN + 1\n",
        "    \n",
        "    accuracy = (TP+TN) / (TP+TN+FP+FN)\n",
        "    \n",
        "    precision = None\n",
        "    if TP+FP != 0:\n",
        "        precision = TP / (TP+FP)\n",
        "    \n",
        "    recall = None\n",
        "    if TP+FN != 0:\n",
        "        recall = TP / (TP+FN)\n",
        "    \n",
        "    f1score = None\n",
        "    if recall != None and precision != None:\n",
        "        f1score = 2*precision*recall/(precision+recall)\n",
        "    \n",
        "    return accuracy, precision, recall, f1score"
      ],
      "execution_count": null,
      "outputs": []
    },
    {
      "cell_type": "markdown",
      "metadata": {
        "id": "LGB0Qj0qYTdC"
      },
      "source": [
        "Now let's use K-fold cross validation to see how our logistic regression functions perform for different values of C(the inverse of lambda)"
      ]
    },
    {
      "cell_type": "code",
      "metadata": {
        "id": "g2Awxy_sYRXD"
      },
      "source": [
        "from sklearn.model_selection import KFold"
      ],
      "execution_count": null,
      "outputs": []
    },
    {
      "cell_type": "markdown",
      "metadata": {
        "id": "UwDfGUVIYVvW"
      },
      "source": [
        "Since the dataset is somewhat small, let's go with k=5"
      ]
    },
    {
      "cell_type": "markdown",
      "metadata": {
        "id": "2kzleM7AYVyS"
      },
      "source": [
        "This block of code will find the average metrics values(e.g. average accuracy, average precision) for some sample C values using the K-fold cross validation and store this information in the dataframe named \"metricsByCValue\""
      ]
    },
    {
      "cell_type": "code",
      "metadata": {
        "id": "Q0KeYzdRYbLV"
      },
      "source": [
        "kf = KFold(n_splits=5, shuffle=False)\n",
        "C = [100000, 10000, 1000, 100, 10, 1, 0.1, 0.01, 0.001, 0.0001]    # different C values\n",
        "\n",
        "# we will create a dataframe called metricsByCValue which will contain all the metrics for different C values\n",
        "metricsByCValue = pd.DataFrame(columns = ['C', 'avgAccuracy', 'avgPrecision', 'avgRecall', 'avgF1score'])\n",
        "\n",
        "for index in range (0, len(C)):\n",
        "    totalAccuracy, totalPrecision, totalRecall, totalf1score = 0, 0, 0, 0\n",
        "    accuracyCounter, precisionCounter, recallCounter, f1scoreCounter = 0, 0, 0, 0\n",
        "    for train_index, test_index in kf.split(dataX):\n",
        "\n",
        "        dataTrainX, dataTestX, dataTrainY, dataTestY = dataX.iloc[train_index], dataX.iloc[test_index], dataY.iloc[train_index], dataY.iloc[test_index]\n",
        "    \n",
        "        lambdaVal = 1 / C[index]    # lambda = 1/C\n",
        "        \n",
        "        parameters = fit(dataTrainX, dataTrainY, lambdaVal)\n",
        "        \n",
        "        prediction = predict(parameters, dataTestX)\n",
        "        \n",
        "        thresh = getBestThreshold(dataTestY, prediction)\n",
        "        realPrediction = realPred(prediction, thresh)\n",
        "        \n",
        "        accuracy, precision, recall, f1score = getMetrics(dataTestY, realPrediction)\n",
        "        \n",
        "        if accuracy != None:\n",
        "            totalAccuracy = totalAccuracy + accuracy\n",
        "            accuracyCounter = accuracyCounter + 1\n",
        "        if precision != None:\n",
        "            totalPrecision = totalPrecision + precision\n",
        "            precisionCounter = precisionCounter + 1\n",
        "        if recall != None:\n",
        "            totalRecall = totalRecall + recall\n",
        "            recallCounter = recallCounter + 1\n",
        "        if f1score != None:\n",
        "            totalf1score = totalf1score + f1score\n",
        "            f1scoreCounter = f1scoreCounter + 1\n",
        "        \n",
        "    \n",
        "    avgAccuracy = totalAccuracy / accuracyCounter\n",
        "    avgPrecision = totalPrecision / precisionCounter\n",
        "    avgRecall = totalRecall / recallCounter\n",
        "    avgF1score = totalf1score / f1scoreCounter\n",
        "    \n",
        "    data = [(C[index], avgAccuracy, avgPrecision, avgRecall, avgF1score)]\n",
        "    temp = pd.DataFrame(data, columns = ['C','avgAccuracy', 'avgPrecision', 'avgRecall', 'avgF1score'])\n",
        "    metricsByCValue = pd.concat([metricsByCValue, temp])"
      ],
      "execution_count": null,
      "outputs": []
    },
    {
      "cell_type": "markdown",
      "metadata": {
        "id": "T4ufkVN9Yhye"
      },
      "source": [
        "now let's see what kind of result we have got:"
      ]
    },
    {
      "cell_type": "code",
      "metadata": {
        "colab": {
          "base_uri": "https://localhost:8080/",
          "height": 340
        },
        "id": "IED6hw9IYdKC",
        "outputId": "77491ac5-28a3-4747-f56a-08cbe3f79d04"
      },
      "source": [
        "metricsByCValue"
      ],
      "execution_count": null,
      "outputs": [
        {
          "output_type": "execute_result",
          "data": {
            "text/html": [
              "<div>\n",
              "<style scoped>\n",
              "    .dataframe tbody tr th:only-of-type {\n",
              "        vertical-align: middle;\n",
              "    }\n",
              "\n",
              "    .dataframe tbody tr th {\n",
              "        vertical-align: top;\n",
              "    }\n",
              "\n",
              "    .dataframe thead th {\n",
              "        text-align: right;\n",
              "    }\n",
              "</style>\n",
              "<table border=\"1\" class=\"dataframe\">\n",
              "  <thead>\n",
              "    <tr style=\"text-align: right;\">\n",
              "      <th></th>\n",
              "      <th>C</th>\n",
              "      <th>avgAccuracy</th>\n",
              "      <th>avgPrecision</th>\n",
              "      <th>avgRecall</th>\n",
              "      <th>avgF1score</th>\n",
              "    </tr>\n",
              "  </thead>\n",
              "  <tbody>\n",
              "    <tr>\n",
              "      <th>0</th>\n",
              "      <td>100000</td>\n",
              "      <td>0.820000</td>\n",
              "      <td>0.949153</td>\n",
              "      <td>0.806650</td>\n",
              "      <td>0.856691</td>\n",
              "    </tr>\n",
              "    <tr>\n",
              "      <th>0</th>\n",
              "      <td>10000</td>\n",
              "      <td>0.820000</td>\n",
              "      <td>0.949153</td>\n",
              "      <td>0.806650</td>\n",
              "      <td>0.856691</td>\n",
              "    </tr>\n",
              "    <tr>\n",
              "      <th>0</th>\n",
              "      <td>1000</td>\n",
              "      <td>0.820000</td>\n",
              "      <td>0.949153</td>\n",
              "      <td>0.806650</td>\n",
              "      <td>0.856691</td>\n",
              "    </tr>\n",
              "    <tr>\n",
              "      <th>0</th>\n",
              "      <td>100</td>\n",
              "      <td>0.820000</td>\n",
              "      <td>0.949153</td>\n",
              "      <td>0.806650</td>\n",
              "      <td>0.856691</td>\n",
              "    </tr>\n",
              "    <tr>\n",
              "      <th>0</th>\n",
              "      <td>10</td>\n",
              "      <td>0.820000</td>\n",
              "      <td>0.949153</td>\n",
              "      <td>0.806650</td>\n",
              "      <td>0.856691</td>\n",
              "    </tr>\n",
              "    <tr>\n",
              "      <th>0</th>\n",
              "      <td>1</td>\n",
              "      <td>0.820000</td>\n",
              "      <td>0.949153</td>\n",
              "      <td>0.806650</td>\n",
              "      <td>0.856691</td>\n",
              "    </tr>\n",
              "    <tr>\n",
              "      <th>0</th>\n",
              "      <td>0.1</td>\n",
              "      <td>0.806667</td>\n",
              "      <td>0.949153</td>\n",
              "      <td>0.787138</td>\n",
              "      <td>0.842491</td>\n",
              "    </tr>\n",
              "    <tr>\n",
              "      <th>0</th>\n",
              "      <td>0.01</td>\n",
              "      <td>0.790000</td>\n",
              "      <td>0.888391</td>\n",
              "      <td>0.849548</td>\n",
              "      <td>0.844092</td>\n",
              "    </tr>\n",
              "    <tr>\n",
              "      <th>0</th>\n",
              "      <td>0.001</td>\n",
              "      <td>0.853333</td>\n",
              "      <td>0.949153</td>\n",
              "      <td>0.855796</td>\n",
              "      <td>0.889833</td>\n",
              "    </tr>\n",
              "    <tr>\n",
              "      <th>0</th>\n",
              "      <td>0.0001</td>\n",
              "      <td>0.913333</td>\n",
              "      <td>1.000000</td>\n",
              "      <td>0.875005</td>\n",
              "      <td>0.932071</td>\n",
              "    </tr>\n",
              "  </tbody>\n",
              "</table>\n",
              "</div>"
            ],
            "text/plain": [
              "        C  avgAccuracy  avgPrecision  avgRecall  avgF1score\n",
              "0  100000     0.820000      0.949153   0.806650    0.856691\n",
              "0   10000     0.820000      0.949153   0.806650    0.856691\n",
              "0    1000     0.820000      0.949153   0.806650    0.856691\n",
              "0     100     0.820000      0.949153   0.806650    0.856691\n",
              "0      10     0.820000      0.949153   0.806650    0.856691\n",
              "0       1     0.820000      0.949153   0.806650    0.856691\n",
              "0     0.1     0.806667      0.949153   0.787138    0.842491\n",
              "0    0.01     0.790000      0.888391   0.849548    0.844092\n",
              "0   0.001     0.853333      0.949153   0.855796    0.889833\n",
              "0  0.0001     0.913333      1.000000   0.875005    0.932071"
            ]
          },
          "metadata": {
            "tags": []
          },
          "execution_count": 40
        }
      ]
    },
    {
      "cell_type": "markdown",
      "metadata": {
        "id": "xeb_Ayv-Yl0N"
      },
      "source": [
        "Let's plot this and see how this looks"
      ]
    },
    {
      "cell_type": "code",
      "metadata": {
        "colab": {
          "base_uri": "https://localhost:8080/",
          "height": 439
        },
        "id": "qzWHDNuuYkb-",
        "outputId": "56773ab3-3329-4656-e37a-d3af64c95b1e"
      },
      "source": [
        "df = metricsByCValue.melt('C', var_name='columns',  value_name='values')\n",
        "g = sns.factorplot(x=\"C\", y=\"values\", hue='columns', data=df)"
      ],
      "execution_count": null,
      "outputs": [
        {
          "output_type": "stream",
          "text": [
            "/usr/local/lib/python3.7/dist-packages/seaborn/categorical.py:3714: UserWarning: The `factorplot` function has been renamed to `catplot`. The original name will be removed in a future release. Please update your code. Note that the default `kind` in `factorplot` (`'point'`) has changed `'strip'` in `catplot`.\n",
            "  warnings.warn(msg)\n"
          ],
          "name": "stderr"
        },
        {
          "output_type": "display_data",
          "data": {
            "image/png": "[encoded data removed]",
            "text/plain": [
              "<Figure size 460.125x360 with 1 Axes>"
            ]
          },
          "metadata": {
            "tags": [],
            "needs_background": "light"
          }
        }
      ]
    },
    {
      "cell_type": "markdown",
      "metadata": {
        "id": "VkWMp7nPYwKs"
      },
      "source": [
        "#### For all the C values we have tried so far in our example, it looks like mostly all the metrics see an increase for lower values of C. Therefore we can conclude that smaller values in our example are better for our logistic regression. In case of our example, the value 0.0001 is the best value."
      ]
    },
    {
      "cell_type": "code",
      "metadata": {
        "id": "2E3PoOuyYvJh"
      },
      "source": [
        ""
      ],
      "execution_count": null,
      "outputs": []
    }
  ]
}